{
 "cells": [
  {
   "cell_type": "code",
   "execution_count": 5,
   "metadata": {},
   "outputs": [],
   "source": [
    "import pandas as pd\n",
    "import os"
   ]
  },
  {
   "cell_type": "code",
   "execution_count": 6,
   "metadata": {},
   "outputs": [],
   "source": [
    "dir_path = '/Users/joelmugyenyi/Desktop/API/GIS/'\n",
    "filename = 'Kigali Customers _XLs.xls'\n",
    "filepath = os.path.join(dir_path, filename)"
   ]
  },
  {
   "cell_type": "code",
   "execution_count": 10,
   "metadata": {},
   "outputs": [],
   "source": [
    "df = pd.read_excel(filepath, sheet_name=0)"
   ]
  },
  {
   "cell_type": "code",
   "execution_count": 11,
   "metadata": {},
   "outputs": [
    {
     "data": {
      "text/html": [
       "<div>\n",
       "<style scoped>\n",
       "    .dataframe tbody tr th:only-of-type {\n",
       "        vertical-align: middle;\n",
       "    }\n",
       "\n",
       "    .dataframe tbody tr th {\n",
       "        vertical-align: top;\n",
       "    }\n",
       "\n",
       "    .dataframe thead th {\n",
       "        text-align: right;\n",
       "    }\n",
       "</style>\n",
       "<table border=\"1\" class=\"dataframe\">\n",
       "  <thead>\n",
       "    <tr style=\"text-align: right;\">\n",
       "      <th></th>\n",
       "      <th>ID</th>\n",
       "      <th>LandlordNames</th>\n",
       "      <th>LandlordContact</th>\n",
       "      <th>MeterNumber</th>\n",
       "      <th>East</th>\n",
       "      <th>North</th>\n",
       "      <th>District</th>\n",
       "      <th>Sector</th>\n",
       "      <th>Cellule</th>\n",
       "      <th>Village</th>\n",
       "    </tr>\n",
       "  </thead>\n",
       "  <tbody>\n",
       "    <tr>\n",
       "      <td>0</td>\n",
       "      <td>1</td>\n",
       "      <td>TWAHIRWA FELICITEE</td>\n",
       "      <td>NaN</td>\n",
       "      <td>4.226633e+09</td>\n",
       "      <td>505612.8936</td>\n",
       "      <td>4.782948e+06</td>\n",
       "      <td>Nyarugenge</td>\n",
       "      <td>Nyakabanda</td>\n",
       "      <td>Munanira Ii</td>\n",
       "      <td>Gasiza</td>\n",
       "    </tr>\n",
       "    <tr>\n",
       "      <td>1</td>\n",
       "      <td>2</td>\n",
       "      <td>NZARAMBA</td>\n",
       "      <td>NaN</td>\n",
       "      <td>4.214036e+09</td>\n",
       "      <td>505628.7920</td>\n",
       "      <td>4.782950e+06</td>\n",
       "      <td>Nyarugenge</td>\n",
       "      <td>Kimisagara</td>\n",
       "      <td>Kamuhoza</td>\n",
       "      <td>Ituze</td>\n",
       "    </tr>\n",
       "    <tr>\n",
       "      <td>2</td>\n",
       "      <td>3</td>\n",
       "      <td>MUKURU NTWARI</td>\n",
       "      <td>+250788305799/0728898417</td>\n",
       "      <td>1.318761e+09</td>\n",
       "      <td>505672.0726</td>\n",
       "      <td>4.782965e+06</td>\n",
       "      <td>Nyarugenge</td>\n",
       "      <td>Kimisagara</td>\n",
       "      <td>Kamuhoza</td>\n",
       "      <td>Ituze</td>\n",
       "    </tr>\n",
       "    <tr>\n",
       "      <td>3</td>\n",
       "      <td>4</td>\n",
       "      <td>MUKURU NTWARI</td>\n",
       "      <td>+250788305799/0788516583</td>\n",
       "      <td>1.423578e+10</td>\n",
       "      <td>505677.8654</td>\n",
       "      <td>4.782972e+06</td>\n",
       "      <td>Nyarugenge</td>\n",
       "      <td>Kimisagara</td>\n",
       "      <td>Kamuhoza</td>\n",
       "      <td>Ituze</td>\n",
       "    </tr>\n",
       "    <tr>\n",
       "      <td>4</td>\n",
       "      <td>5</td>\n",
       "      <td>RANGISABA EPIMAQUE</td>\n",
       "      <td>+250727601367</td>\n",
       "      <td>1.318760e+09</td>\n",
       "      <td>505635.7599</td>\n",
       "      <td>4.782973e+06</td>\n",
       "      <td>Nyarugenge</td>\n",
       "      <td>Kimisagara</td>\n",
       "      <td>Kamuhoza</td>\n",
       "      <td>Ituze</td>\n",
       "    </tr>\n",
       "  </tbody>\n",
       "</table>\n",
       "</div>"
      ],
      "text/plain": [
       "   ID       LandlordNames           LandlordContact   MeterNumber  \\\n",
       "0   1  TWAHIRWA FELICITEE                       NaN  4.226633e+09   \n",
       "1   2            NZARAMBA                       NaN  4.214036e+09   \n",
       "2   3       MUKURU NTWARI  +250788305799/0728898417  1.318761e+09   \n",
       "3   4       MUKURU NTWARI  +250788305799/0788516583  1.423578e+10   \n",
       "4   5  RANGISABA EPIMAQUE             +250727601367  1.318760e+09   \n",
       "\n",
       "          East         North    District      Sector      Cellule Village  \n",
       "0  505612.8936  4.782948e+06  Nyarugenge  Nyakabanda  Munanira Ii  Gasiza  \n",
       "1  505628.7920  4.782950e+06  Nyarugenge  Kimisagara     Kamuhoza   Ituze  \n",
       "2  505672.0726  4.782965e+06  Nyarugenge  Kimisagara     Kamuhoza   Ituze  \n",
       "3  505677.8654  4.782972e+06  Nyarugenge  Kimisagara     Kamuhoza   Ituze  \n",
       "4  505635.7599  4.782973e+06  Nyarugenge  Kimisagara     Kamuhoza   Ituze  "
      ]
     },
     "execution_count": 11,
     "metadata": {},
     "output_type": "execute_result"
    }
   ],
   "source": [
    "df.head()"
   ]
  },
  {
   "cell_type": "code",
   "execution_count": null,
   "metadata": {},
   "outputs": [],
   "source": []
  }
 ],
 "metadata": {
  "kernelspec": {
   "display_name": "Python 3",
   "language": "python",
   "name": "python3"
  },
  "language_info": {
   "codemirror_mode": {
    "name": "ipython",
    "version": 3
   },
   "file_extension": ".py",
   "mimetype": "text/x-python",
   "name": "python",
   "nbconvert_exporter": "python",
   "pygments_lexer": "ipython3",
   "version": "3.7.4"
  }
 },
 "nbformat": 4,
 "nbformat_minor": 4
}
